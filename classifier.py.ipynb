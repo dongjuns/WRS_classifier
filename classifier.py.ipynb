{
 "cells": [
  {
   "cell_type": "code",
   "execution_count": 2,
   "metadata": {},
   "outputs": [],
   "source": [
    "import numpy as np\n",
    "import keras\n",
    "from keras import backend as K\n",
    "from keras.applications import MobileNet\n",
    "from keras.applications.mobilenet import preprocess_input\n",
    "from keras.models import Model\n",
    "from keras.optimizers import Adam\n",
    "from keras.preprocessing.image import ImageDataGenerator\n",
    "from keras.metrics import categorical_crossentropy\n",
    "from keras.layers import Dense, Activation, Dropout, GlobalAveragePooling2D"
   ]
  },
  {
   "cell_type": "code",
   "execution_count": 4,
   "metadata": {},
   "outputs": [],
   "source": [
    "CLASSES = 2 # missing pulley or perfect pulley\n",
    "\n",
    "baseModel = MobileNet(weights='imagenet', include_top=False, input_shape=(224, 224, 3))\n",
    "\n",
    "x = baseModel.output\n",
    "x = GlobalAveragePooling2D()(x)\n",
    "x = Dense(1024, activation='relu')(x)\n",
    "x = Dropout(0.5)(x)\n",
    "#x = Dense(1024, activation='relu')(x)\n",
    "#x = Dense(512, activation='relu')(x)\n",
    "#x = Dropout(0.5)(x)\n",
    "preds = Dense(CLASSES, activation='softmax')(x)\n",
    "\n",
    "model = Model(inputs=baseModel.input, outputs=preds)\n",
    "#model.summary()"
   ]
  },
  {
   "cell_type": "code",
   "execution_count": null,
   "metadata": {},
   "outputs": [],
   "source": [
    "for i, layer in enumerate(model.layers):\n",
    "    print(\"{}: {}\".format(i, layer))"
   ]
  },
  {
   "cell_type": "code",
   "execution_count": 6,
   "metadata": {},
   "outputs": [],
   "source": [
    "for layer in model.layers[:87]:\n",
    "    layer.trainable = False\n",
    "\n",
    "for layer in model.layers[87:]:\n",
    "    layer.trainable = True"
   ]
  },
  {
   "cell_type": "code",
   "execution_count": 7,
   "metadata": {},
   "outputs": [
    {
     "name": "stdout",
     "output_type": "stream",
     "text": [
      "Found 7469 images belonging to 2 classes.\n"
     ]
    }
   ],
   "source": [
    "trainDataGen = ImageDataGenerator(preprocessing_function=preprocess_input, validation_split = 0.3)\n",
    "\n",
    "trainGen = trainDataGen.flow_from_directory('/home/dongjun/djplace/samples/',\n",
    "                                            target_size = (224, 224),\n",
    "                                            batch_size = 32,\n",
    "                                            #color_mode = 'rgb',\n",
    "                                            class_mode = 'categorical',\n",
    "                                            subset = 'training',\n",
    "                                            shuffle = True)\n",
    "\n",
    "validGen = trainDataGen.flow_from_directory('/home/dongjun/djplace/samples/',\n",
    "                                           target_size = (224, 224),\n",
    "                                           batch_size = 32,\n",
    "                                           class_mode = 'categorical',\n",
    "                                           subset = 'validation')"
   ]
  },
  {
   "cell_type": "code",
   "execution_count": 9,
   "metadata": {},
   "outputs": [],
   "source": [
    "FILEPATH = '/home/dongjun/djplace/samples/'\n",
    "EPOCHS = 10\n",
    "LEARNINGRATE = 0.001\n",
    "DECAYRATE = LEARNINGRATE // EPOCHS\n",
    "opt = Adam(lr = LEARNINGRATE, decay=DECAYRATE)\n",
    "model.compile(optimizer=\"Adam\", loss='categorical_crossentropy', metrics=['accuracy'])"
   ]
  },
  {
   "cell_type": "code",
   "execution_count": 12,
   "metadata": {},
   "outputs": [
    {
     "name": "stdout",
     "output_type": "stream",
     "text": [
      "WARNING:tensorflow:From /home/dongjun/anaconda3/envs/dj/lib/python3.7/site-packages/tensorflow/python/ops/math_ops.py:3066: to_int32 (from tensorflow.python.ops.math_ops) is deprecated and will be removed in a future version.\n",
      "Instructions for updating:\n",
      "Use tf.cast instead.\n",
      "Epoch 1/10\n",
      "233/233 [==============================] - 895s 4s/step - loss: 0.4031 - accuracy: 0.8388 - val_loss: 1.3504 - val_accuracy: 0.5734\n",
      "Epoch 2/10\n",
      "233/233 [==============================] - 990s 4s/step - loss: 0.2241 - accuracy: 0.9061 - val_loss: 1.8681 - val_accuracy: 0.5469\n",
      "Epoch 3/10\n",
      "233/233 [==============================] - 1003s 4s/step - loss: 0.1351 - accuracy: 0.9433 - val_loss: 2.1968 - val_accuracy: 0.5809\n",
      "Epoch 4/10\n",
      "233/233 [==============================] - 1006s 4s/step - loss: 0.1549 - accuracy: 0.9332 - val_loss: 3.6786 - val_accuracy: 0.5163\n",
      "Epoch 5/10\n",
      "233/233 [==============================] - 1008s 4s/step - loss: 0.1283 - accuracy: 0.9457 - val_loss: 1.2542 - val_accuracy: 0.6488\n",
      "Epoch 6/10\n",
      "233/233 [==============================] - 973s 4s/step - loss: 0.1257 - accuracy: 0.9466 - val_loss: 1.3152 - val_accuracy: 0.6156\n",
      "Epoch 7/10\n",
      "233/233 [==============================] - 974s 4s/step - loss: 0.1317 - accuracy: 0.9485 - val_loss: 0.9901 - val_accuracy: 0.6219\n",
      "Epoch 8/10\n",
      "233/233 [==============================] - 978s 4s/step - loss: 0.0957 - accuracy: 0.9595 - val_loss: 2.2350 - val_accuracy: 0.5906\n",
      "Epoch 9/10\n",
      "233/233 [==============================] - 992s 4s/step - loss: 0.1012 - accuracy: 0.9592 - val_loss: 2.8182 - val_accuracy: 0.5944\n",
      "Epoch 10/10\n",
      "233/233 [==============================] - 1006s 4s/step - loss: 0.0935 - accuracy: 0.9613 - val_loss: 4.5597 - val_accuracy: 0.5528\n"
     ]
    },
    {
     "data": {
      "text/plain": [
       "<keras.callbacks.callbacks.History at 0x7f0e126f5790>"
      ]
     },
     "execution_count": 12,
     "metadata": {},
     "output_type": "execute_result"
    }
   ],
   "source": [
    "model.fit_generator(generator=trainGen,\n",
    "                    steps_per_epoch = trainGen.n // trainGen.batch_size,\n",
    "                    validation_data = validGen,\n",
    "                    validation_steps = validGen.n // validGen.batch_size,\n",
    "                    epochs = EPOCHS)"
   ]
  },
  {
   "cell_type": "code",
   "execution_count": null,
   "metadata": {},
   "outputs": [],
   "source": []
  }
 ],
 "metadata": {
  "kernelspec": {
   "display_name": "Python 3",
   "language": "python",
   "name": "python3"
  },
  "language_info": {
   "codemirror_mode": {
    "name": "ipython",
    "version": 3
   },
   "file_extension": ".py",
   "mimetype": "text/x-python",
   "name": "python",
   "nbconvert_exporter": "python",
   "pygments_lexer": "ipython3",
   "version": "3.7.6"
  }
 },
 "nbformat": 4,
 "nbformat_minor": 4
}
